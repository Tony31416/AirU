{
 "cells": [
  {
   "cell_type": "code",
   "execution_count": 15,
   "metadata": {},
   "outputs": [],
   "source": [
    "import os\n",
    "import pandas as pd\n",
    "import matplotlib.pyplot as plt\n",
    "import numpy as np\n",
    "import scipy as sp\n",
    "import scipy.stats, datetime, time\n",
    "from matplotlib import cm\n",
    "\n",
    "path ='C:\\\\Users\\\\jbuss\\\\Google Drive\\\\AirU Folder\\\\scripts\\AirU (github)\\\\AirU\\\\Ozone\\\\O3Scoping\\\\'\n",
    "\n",
    "f_all = os.listdir(path)  #read the directory\n",
    "f=[]\n",
    "for foldername in f_all:  #loop throug all the files\n",
    "    if len(foldername.split('.'))==1:\n",
    "        f.append(fname)\n",
    "\n",
    "O3files =[]      \n",
    "for foldername in f:\n",
    "    f_all = os.listdir(path + foldername)\n",
    "    if (len(foldername.split('.'))>1 and (filename.split('.')[1]=='csv') and ('O3Analysis' in filename)):\n",
    "        O3files.append(filename)"
   ]
  },
  {
   "cell_type": "code",
   "execution_count": 19,
   "metadata": {},
   "outputs": [
    {
     "name": "stdout",
     "output_type": "stream",
     "text": [
      "[]\n"
     ]
    }
   ],
   "source": []
  }
 ],
 "metadata": {
  "kernelspec": {
   "display_name": "Python 3",
   "language": "python",
   "name": "python3"
  },
  "language_info": {
   "codemirror_mode": {
    "name": "ipython",
    "version": 3
   },
   "file_extension": ".py",
   "mimetype": "text/x-python",
   "name": "python",
   "nbconvert_exporter": "python",
   "pygments_lexer": "ipython3",
   "version": "3.6.1"
  }
 },
 "nbformat": 4,
 "nbformat_minor": 2
}
